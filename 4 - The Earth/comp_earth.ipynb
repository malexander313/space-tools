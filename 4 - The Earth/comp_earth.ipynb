{
 "cells": [
  {
   "cell_type": "code",
   "execution_count": 2,
   "metadata": {},
   "outputs": [],
   "source": [
    "import spiceypy"
   ]
  },
  {
   "cell_type": "code",
   "execution_count": 3,
   "metadata": {},
   "outputs": [],
   "source": [
    "import datetime\n",
    "\n",
    "date_today = datetime.datetime.today()\n",
    "\n",
    "date_today = date_today.strftime(\"%Y-%m-%dT00:00:00\")"
   ]
  },
  {
   "cell_type": "code",
   "execution_count": 7,
   "metadata": {},
   "outputs": [
    {
     "name": "stdout",
     "output_type": "stream",
     "text": [
      "2023-03-19T00:00:00\n"
     ]
    }
   ],
   "source": [
    "print(date_today)"
   ]
  },
  {
   "cell_type": "code",
   "execution_count": 8,
   "metadata": {},
   "outputs": [],
   "source": [
    "spiceypy.furnsh(\"../kernels/lsk/naif0012.tls\")\n",
    "spiceypy.furnsh(\"../kernels/spk/planets/de432s.bsp\")"
   ]
  },
  {
   "cell_type": "code",
   "execution_count": 9,
   "metadata": {},
   "outputs": [
    {
     "name": "stdout",
     "output_type": "stream",
     "text": [
      "732456069.1855918\n"
     ]
    }
   ],
   "source": [
    "et_today_midnight = spiceypy.utc2et(date_today)\n",
    "print(et_today_midnight)"
   ]
  },
  {
   "cell_type": "code",
   "execution_count": 10,
   "metadata": {},
   "outputs": [
    {
     "name": "stdout",
     "output_type": "stream",
     "text": [
      "[-1.48791816e+08  5.71001397e+06  9.01134583e+02 -1.63391216e+00\n",
      " -2.98905827e+01  1.23198421e-03]\n"
     ]
    }
   ],
   "source": [
    "earth_state_wrt_sun, earth_sun_light_time = spiceypy.spkgeo(targ=399, et=et_today_midnight,ref=\"ECLIPJ2000\", obs=10)\n",
    "\n",
    "print(earth_state_wrt_sun)"
   ]
  },
  {
   "cell_type": "code",
   "execution_count": 11,
   "metadata": {},
   "outputs": [
    {
     "name": "stdout",
     "output_type": "stream",
     "text": [
      "148901338.68233755\n"
     ]
    }
   ],
   "source": [
    "import math\n",
    "earth_sun_distance = math.sqrt(earth_state_wrt_sun[0]**2 + earth_state_wrt_sun[1]**2 + earth_state_wrt_sun[2]**2)\n",
    "print(earth_sun_distance)"
   ]
  },
  {
   "cell_type": "code",
   "execution_count": 12,
   "metadata": {},
   "outputs": [
    {
     "name": "stdout",
     "output_type": "stream",
     "text": [
      "0.9953439716187539\n"
     ]
    }
   ],
   "source": [
    "earth_sun_distance_au = spiceypy.convrt(earth_sun_distance, \"km\",\"au\")\n",
    "print(earth_sun_distance_au)"
   ]
  },
  {
   "cell_type": "code",
   "execution_count": null,
   "metadata": {},
   "outputs": [],
   "source": []
  }
 ],
 "metadata": {
  "kernelspec": {
   "display_name": "Python 3",
   "language": "python",
   "name": "python3"
  },
  "language_info": {
   "codemirror_mode": {
    "name": "ipython",
    "version": 3
   },
   "file_extension": ".py",
   "mimetype": "text/x-python",
   "name": "python",
   "nbconvert_exporter": "python",
   "pygments_lexer": "ipython3",
   "version": "3.11.2"
  },
  "orig_nbformat": 4
 },
 "nbformat": 4,
 "nbformat_minor": 2
}
